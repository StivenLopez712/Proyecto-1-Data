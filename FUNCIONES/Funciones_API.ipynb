{
 "cells": [
  {
   "cell_type": "markdown",
   "metadata": {},
   "source": [
    "                                               Funciones para la API:"
   ]
  },
  {
   "cell_type": "code",
   "execution_count": 36,
   "metadata": {},
   "outputs": [],
   "source": [
    "import pandas as pd\n",
    "from sklearn.metrics.pairwise import cosine_similarity\n",
    "from sklearn.preprocessing import MinMaxScaler\n",
    "#Se cargan los datos\n",
    "DF_GAMES = pd.read_parquet('../Parquets/ETL_Steam_Games.gzip')\n",
    "DF_REVIEWS = pd.read_parquet('../Parquets/Review_Sentiment_Analysis.gzip')\n",
    "DF_ITEMS = pd.read_parquet('../Parquets/ETL_user_items.gzip')\n"
   ]
  },
  {
   "cell_type": "markdown",
   "metadata": {},
   "source": [
    "                                            FUNCION 1"
   ]
  },
  {
   "cell_type": "code",
   "execution_count": 37,
   "metadata": {},
   "outputs": [],
   "source": [
    "def PlayTimeGenre(genero: str):\n",
    "\n",
    "    #Se une lo datos relevantes\n",
    "    merged_df = pd.merge(DF_GAMES, DF_ITEMS, on='Item_Id')\n",
    "\n",
    "     #Se filtra por género\n",
    "    genre_df = merged_df[merged_df['Genres'] == genero]\n",
    "\n",
    "    #Se agrupa y sumar horas jugadas\n",
    "    grouped_df = genre_df.groupby('Release_Year')['Playtime_Forever'].sum().reset_index()\n",
    "\n",
    "    #Se busca el año con más horas jugadas\n",
    "    max_year = grouped_df.loc[grouped_df['Playtime_Forever'].idxmax(), 'Release_Year']\n",
    "    result = {\"Año de lanzamiento con más horas jugadas para Género \" + genero: int(max_year)}\n",
    "    return result"
   ]
  },
  {
   "cell_type": "code",
   "execution_count": 38,
   "metadata": {},
   "outputs": [
    {
     "data": {
      "text/plain": [
       "{'Año de lanzamiento con más horas jugadas para Género Strategy': 2013}"
      ]
     },
     "execution_count": 38,
     "metadata": {},
     "output_type": "execute_result"
    }
   ],
   "source": [
    "PLAYTIME = PlayTimeGenre('Strategy')\n",
    "PLAYTIME"
   ]
  },
  {
   "cell_type": "markdown",
   "metadata": {},
   "source": [
    "                                            FUNCION 2"
   ]
  },
  {
   "cell_type": "code",
   "execution_count": 39,
   "metadata": {},
   "outputs": [],
   "source": [
    "def UserForGenre(genero: str):\n",
    "    #Se une lo datos relevantes\n",
    "    merged_df = pd.merge(DF_GAMES, DF_ITEMS, on='Item_Id')\n",
    "\n",
    "    #Se filtra por género\n",
    "    genre_df = merged_df[merged_df['Genres'] == genero]\n",
    "\n",
    "    #Se agrupa por usuario y año, y sumar horas jugadas\n",
    "    grouped_df = genre_df.groupby(['User_Id', 'Release_Year'])['Playtime_Forever'].sum().reset_index()\n",
    "\n",
    "    #Se busca el usuario con más horas jugadas\n",
    "    max_user_row = grouped_df.loc[grouped_df['Playtime_Forever'].idxmax()]\n",
    "    max_user = max_user_row['User_Id']\n",
    "\n",
    "    #Se crea la lista de acumulación de horas jugadas por año sin duplicados\n",
    "    unique_years = grouped_df['Release_Year'].unique()\n",
    "    hours_list = [{\"Año\": int(year), \"Horas\": int(grouped_df[grouped_df['Release_Year'] == year]['Playtime_Forever'].sum())} for year in unique_years]\n",
    "\n",
    "    #Se ordena la lista por año\n",
    "    hours_list = sorted(hours_list, key=lambda x: x['Año'])\n",
    "    result = {\"Usuario con más horas jugadas para Género \" + genero: max_user,\n",
    "              \"Horas jugadas\": hours_list}\n",
    "    return result\n"
   ]
  },
  {
   "cell_type": "code",
   "execution_count": 40,
   "metadata": {},
   "outputs": [
    {
     "data": {
      "text/plain": [
       "{'Usuario con más horas jugadas para Género Casual': 'GeometryWarsFTW',\n",
       " 'Horas jugadas': [{'Año': 1995, 'Horas': 385},\n",
       "  {'Año': 1999, 'Horas': 222},\n",
       "  {'Año': 2001, 'Horas': 675},\n",
       "  {'Año': 2005, 'Horas': 6707},\n",
       "  {'Año': 2007, 'Horas': 258750},\n",
       "  {'Año': 2008, 'Horas': 15278},\n",
       "  {'Año': 2009, 'Horas': 6955},\n",
       "  {'Año': 2010, 'Horas': 74735},\n",
       "  {'Año': 2011, 'Horas': 15066},\n",
       "  {'Año': 2012, 'Horas': 1701},\n",
       "  {'Año': 2013, 'Horas': 57625},\n",
       "  {'Año': 2014, 'Horas': 16471},\n",
       "  {'Año': 2015, 'Horas': 36796},\n",
       "  {'Año': 2016, 'Horas': 25373}]}"
      ]
     },
     "execution_count": 40,
     "metadata": {},
     "output_type": "execute_result"
    }
   ],
   "source": [
    "GENRE_HOURS =UserForGenre('Casual')\n",
    "GENRE_HOURS"
   ]
  },
  {
   "cell_type": "markdown",
   "metadata": {},
   "source": [
    "                                                FUNCION 3"
   ]
  },
  {
   "cell_type": "code",
   "execution_count": 41,
   "metadata": {},
   "outputs": [],
   "source": [
    "def UsersRecommend(año: int):\n",
    "    '''Recordar que como se vió en el EDA, esta funcion solo admite datos de año entre2010 y 2015'''\n",
    "    #Se une datos relevantes\n",
    "    merged_df = pd.merge(DF_GAMES, DF_REVIEWS, on='Item_Id')\n",
    "\n",
    "    #Se filtra por año y recomendaciones positivas/neutrales\n",
    "    year_df = merged_df[merged_df['Year_Posted'] == año]\n",
    "    positive_neutral_df = year_df[year_df['Sentiment_Analysis'].isin([1, 2]) & year_df['Recommend']]\n",
    "\n",
    "    #Se cuentan las recomendaciones por juego\n",
    "    top_games = positive_neutral_df.groupby('App_Name')['Recommend'].sum().reset_index()\n",
    "\n",
    "    #Se odena y obtener el top 3\n",
    "    top_games = top_games.sort_values(by='Recommend', ascending=False).head(3)\n",
    "\n",
    "    #Se crea la lista de salida\n",
    "    result_list = [{\"Puesto {}: \".format(i+1): game} for i, game in enumerate(top_games['App_Name'])]\n",
    "    return result_list"
   ]
  },
  {
   "cell_type": "code",
   "execution_count": 42,
   "metadata": {},
   "outputs": [
    {
     "data": {
      "text/plain": [
       "[{'Puesto 1: ': 'Team Fortress 2'},\n",
       " {'Puesto 2: ': 'Counter-Strike: Source'},\n",
       " {'Puesto 3: ': 'Portal'}]"
      ]
     },
     "execution_count": 42,
     "metadata": {},
     "output_type": "execute_result"
    }
   ],
   "source": [
    "MOST_RECO = UsersRecommend(2010)\n",
    "MOST_RECO"
   ]
  },
  {
   "cell_type": "markdown",
   "metadata": {},
   "source": [
    "                                                FUNCION 4"
   ]
  },
  {
   "cell_type": "code",
   "execution_count": 43,
   "metadata": {},
   "outputs": [],
   "source": [
    "def UsersWorstDeveloper(año: int):\n",
    "    #Se filtra juegos lanzados en el año dado\n",
    "    games_year_df = DF_GAMES[DF_GAMES[\"Release_Year\"] == año]\n",
    "\n",
    "    #Se ue los DataFrames para obtener la información necesaria\n",
    "    merged_df = pd.merge(DF_REVIEWS, games_year_df, on=\"Item_Id\")\n",
    "    final_df = pd.merge(merged_df, DF_ITEMS, on=\"Item_Id\")\n",
    "\n",
    "    # Filtrar juegos con recomendaciones negativas\n",
    "    worst_games_df = final_df[(final_df[\"Recommend\"] == False) & (final_df[\"Sentiment_Analysis\"] == 0)]\n",
    "\n",
    "    #Se agrupa por desarrollador y contar el número de juegos con recomendaciones negativas\n",
    "    developer_counts = worst_games_df.groupby(\"Developer\")[\"Item_Id\"].count().reset_index()\n",
    "    \n",
    "    #TOp 3 peores\n",
    "    top_developers = developer_counts.nlargest(3, \"Item_Id\")\n",
    "    result = [{\"Puesto {}: \".format(i): {\"Developer\": developer_row.Developer}} for i, developer_row in enumerate(top_developers.itertuples(index=False), start=1)]\n",
    "\n",
    "    return result"
   ]
  },
  {
   "cell_type": "code",
   "execution_count": 44,
   "metadata": {},
   "outputs": [
    {
     "data": {
      "text/plain": [
       "[{'Puesto 1: ': {'Developer': 'Jagex Limited'}},\n",
       " {'Puesto 2: ': {'Developer': 'Hardsuit Labs'}},\n",
       " {'Puesto 3: ': {'Developer': 'Ubisoft Montreal Massive Entertainment And Ubisoft Shanghai'}}]"
      ]
     },
     "execution_count": 44,
     "metadata": {},
     "output_type": "execute_result"
    }
   ],
   "source": [
    "LEAST_RECO = UsersWorstDeveloper(2012)\n",
    "LEAST_RECO"
   ]
  },
  {
   "cell_type": "markdown",
   "metadata": {},
   "source": [
    "                                              FUNCION 5"
   ]
  },
  {
   "cell_type": "code",
   "execution_count": 45,
   "metadata": {},
   "outputs": [],
   "source": [
    "def sentiment_analysis(desarrolladora: str):\n",
    "    #Se fitran los datos para la empresa dada\n",
    "    games_df_filtered = DF_GAMES[DF_GAMES['Developer'] == desarrolladora]\n",
    "    reviews_df_filtered = pd.merge(DF_REVIEWS, games_df_filtered[['Item_Id']], on='Item_Id')\n",
    "    \n",
    "    #Se cuenta la cantidad de registros de reseñas por categoría de sentimiento\n",
    "    sentiment_counts = reviews_df_filtered['Sentiment_Analysis'].value_counts().to_dict()\n",
    "    \n",
    "    #Se crea el diccionario de salida\n",
    "    output_dict = {desarrolladora: {'Negative': sentiment_counts.get(0, 0),\n",
    "                                    'Neutral': sentiment_counts.get(1, 0),\n",
    "                                    'Positive': sentiment_counts.get(2, 0)}}\n",
    "    return output_dict"
   ]
  },
  {
   "cell_type": "code",
   "execution_count": 46,
   "metadata": {},
   "outputs": [
    {
     "data": {
      "text/plain": [
       "{'Valve': {'Negative': 337, 'Neutral': 985, 'Positive': 2629}}"
      ]
     },
     "execution_count": 46,
     "metadata": {},
     "output_type": "execute_result"
    }
   ],
   "source": [
    "SENTIMENT_DEVS = sentiment_analysis('Valve')\n",
    "SENTIMENT_DEVS"
   ]
  },
  {
   "cell_type": "markdown",
   "metadata": {},
   "source": [
    "                                    SISTEMA RECOMENDACION  ITEM-ITEM"
   ]
  },
  {
   "cell_type": "markdown",
   "metadata": {},
   "source": [
    "La función recomendacion_juego, carga datos de Recomendacion.parquet, archivo creado en el EDA del proyecto. Posteriormente, se crea una matriz donde las filas son los usuarios, las columnas son los juegos y los valores son las calificaciones (Rating). Se rellenan lo valores faltantes con 3, esto debido a qué, como se observa en el EDA, la gran mayoría de calificaciones . Luego, normaliza estas calificaciones utilizando MinMaxScaler para ponerlas en el rango [0, 1]. Después, calcula la similitud de coseno entre juegos, encuentra el índice del juego dado en la matriz de similitud, identifica los cinco juegos más similares (excluyendo el propio juego) y devuelve sus nombres como recomendaciones. Este enfoque ayuda a proporcionar recomendaciones de juegos más robustas al tener en cuenta las similitudes relativas entre los juegos y normalizar las calificaciones para evitar sesgos debidos a diferentes escalas."
   ]
  },
  {
   "cell_type": "code",
   "execution_count": 59,
   "metadata": {},
   "outputs": [],
   "source": [
    "recomendaciones = pd.read_parquet('../Parquets/Recomendacion.gzip')\n",
    "def recomendacion_juego(Item_Name: str):\n",
    " #Se crea la matriz de calificaiciones:\n",
    " matrix = recomendaciones.pivot(index='User_Id', columns='Item_Name', values='Rating').fillna(1)\n",
    "\n",
    " #Se normaliza las calificaciones para que esten en el rango correcto:\n",
    " scaler = MinMaxScaler()\n",
    " matrix_scaled = scaler.fit_transform(matrix)\n",
    "\n",
    " #Se calcula la similitud del coseno entre los juegos\n",
    " similarity_matrix = cosine_similarity(matrix_scaled.T)\n",
    "\n",
    " #Se busca el índice del juego dado en la matriz de similitud\n",
    " index = matrix.columns.get_loc(Item_Name)\n",
    "\n",
    " #Se buscan los índices de los juegos similares\n",
    " similar_indices = similarity_matrix[index].argsort()[-6:-1]\n",
    " recommended_games = matrix.columns[similar_indices]\n",
    "\n",
    " return f\"Porque jugaste '{Item_Name}', te pueden interesar:{', '.join(recommended_games)}\"\n"
   ]
  },
  {
   "cell_type": "code",
   "execution_count": 60,
   "metadata": {},
   "outputs": [
    {
     "data": {
      "text/plain": [
       "\"Porque jugaste 'Killing Floor', te pueden interesar:Lucius II, Wrack, Nexuiz, Deus Ex: Revision, Brothers in Arms: Hell's Highway\""
      ]
     },
     "execution_count": 60,
     "metadata": {},
     "output_type": "execute_result"
    }
   ],
   "source": [
    "recomendacion = recomendacion_juego('Killing Floor')\n",
    "recomendacion"
   ]
  }
 ],
 "metadata": {
  "kernelspec": {
   "display_name": "Python 3",
   "language": "python",
   "name": "python3"
  },
  "language_info": {
   "codemirror_mode": {
    "name": "ipython",
    "version": 3
   },
   "file_extension": ".py",
   "mimetype": "text/x-python",
   "name": "python",
   "nbconvert_exporter": "python",
   "pygments_lexer": "ipython3",
   "version": "3.11.5"
  }
 },
 "nbformat": 4,
 "nbformat_minor": 2
}
