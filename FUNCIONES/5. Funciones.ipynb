{
 "cells": [
  {
   "cell_type": "markdown",
   "metadata": {},
   "source": [
    " # <center>**Funciones para la API**"
   ]
  },
  {
   "cell_type": "markdown",
   "metadata": {},
   "source": [
    "En este notebook se desarrollaran las pruebas de las funciones que son solicitadas en la API."
   ]
  },
  {
   "cell_type": "markdown",
   "metadata": {},
   "source": [
    "## Importaciones"
   ]
  },
  {
   "cell_type": "code",
   "execution_count": 1,
   "metadata": {},
   "outputs": [],
   "source": [
    "import pandas as pd\n",
    "import json\n",
    "import ast\n",
    "import warnings\n",
    "warnings.filterwarnings(\"ignore\")"
   ]
  },
  {
   "cell_type": "markdown",
   "metadata": {},
   "source": [
    "## Extraccion de la informacion"
   ]
  },
  {
   "cell_type": "markdown",
   "metadata": {},
   "source": [
    "Cargamos los 3 datasets ya limpios"
   ]
  },
  {
   "cell_type": "code",
   "execution_count": 2,
   "metadata": {},
   "outputs": [],
   "source": [
    "steam = pd.read_csv('Output_Steam_limpia_eda.csv', index_col=0)\n",
    "reviews = pd.read_csv('australian_user_reviews_limpia_eda.csv', index_col=0) #elimina la columna que se genera llamada unnamed:0\n",
    "items = pd.read_csv('australian_user_items_limpia_eda.csv', index_col=0) "
   ]
  },
  {
   "cell_type": "code",
   "execution_count": 3,
   "metadata": {},
   "outputs": [
    {
     "data": {
      "text/html": [
       "<div>\n",
       "<style scoped>\n",
       "    .dataframe tbody tr th:only-of-type {\n",
       "        vertical-align: middle;\n",
       "    }\n",
       "\n",
       "    .dataframe tbody tr th {\n",
       "        vertical-align: top;\n",
       "    }\n",
       "\n",
       "    .dataframe thead th {\n",
       "        text-align: right;\n",
       "    }\n",
       "</style>\n",
       "<table border=\"1\" class=\"dataframe\">\n",
       "  <thead>\n",
       "    <tr style=\"text-align: right;\">\n",
       "      <th></th>\n",
       "      <th>genres</th>\n",
       "      <th>title</th>\n",
       "      <th>id</th>\n",
       "      <th>developer</th>\n",
       "      <th>year_release</th>\n",
       "    </tr>\n",
       "  </thead>\n",
       "  <tbody>\n",
       "    <tr>\n",
       "      <th>0</th>\n",
       "      <td>Action</td>\n",
       "      <td>Lost Summoner Kitty</td>\n",
       "      <td>761140</td>\n",
       "      <td>Kotoshiro</td>\n",
       "      <td>2018</td>\n",
       "    </tr>\n",
       "    <tr>\n",
       "      <th>1</th>\n",
       "      <td>Casual</td>\n",
       "      <td>Lost Summoner Kitty</td>\n",
       "      <td>761140</td>\n",
       "      <td>Kotoshiro</td>\n",
       "      <td>2018</td>\n",
       "    </tr>\n",
       "    <tr>\n",
       "      <th>2</th>\n",
       "      <td>Indie</td>\n",
       "      <td>Lost Summoner Kitty</td>\n",
       "      <td>761140</td>\n",
       "      <td>Kotoshiro</td>\n",
       "      <td>2018</td>\n",
       "    </tr>\n",
       "    <tr>\n",
       "      <th>3</th>\n",
       "      <td>Simulation</td>\n",
       "      <td>Lost Summoner Kitty</td>\n",
       "      <td>761140</td>\n",
       "      <td>Kotoshiro</td>\n",
       "      <td>2018</td>\n",
       "    </tr>\n",
       "    <tr>\n",
       "      <th>4</th>\n",
       "      <td>Strategy</td>\n",
       "      <td>Lost Summoner Kitty</td>\n",
       "      <td>761140</td>\n",
       "      <td>Kotoshiro</td>\n",
       "      <td>2018</td>\n",
       "    </tr>\n",
       "  </tbody>\n",
       "</table>\n",
       "</div>"
      ],
      "text/plain": [
       "       genres                title      id  developer  year_release\n",
       "0      Action  Lost Summoner Kitty  761140  Kotoshiro          2018\n",
       "1      Casual  Lost Summoner Kitty  761140  Kotoshiro          2018\n",
       "2       Indie  Lost Summoner Kitty  761140  Kotoshiro          2018\n",
       "3  Simulation  Lost Summoner Kitty  761140  Kotoshiro          2018\n",
       "4    Strategy  Lost Summoner Kitty  761140  Kotoshiro          2018"
      ]
     },
     "execution_count": 3,
     "metadata": {},
     "output_type": "execute_result"
    }
   ],
   "source": [
    "steam.head()"
   ]
  },
  {
   "cell_type": "code",
   "execution_count": 4,
   "metadata": {},
   "outputs": [
    {
     "data": {
      "text/html": [
       "<div>\n",
       "<style scoped>\n",
       "    .dataframe tbody tr th:only-of-type {\n",
       "        vertical-align: middle;\n",
       "    }\n",
       "\n",
       "    .dataframe tbody tr th {\n",
       "        vertical-align: top;\n",
       "    }\n",
       "\n",
       "    .dataframe thead th {\n",
       "        text-align: right;\n",
       "    }\n",
       "</style>\n",
       "<table border=\"1\" class=\"dataframe\">\n",
       "  <thead>\n",
       "    <tr style=\"text-align: right;\">\n",
       "      <th></th>\n",
       "      <th>recommend</th>\n",
       "      <th>user_id</th>\n",
       "      <th>sentiment_analysis</th>\n",
       "      <th>year_review</th>\n",
       "    </tr>\n",
       "    <tr>\n",
       "      <th>item_id</th>\n",
       "      <th></th>\n",
       "      <th></th>\n",
       "      <th></th>\n",
       "      <th></th>\n",
       "    </tr>\n",
       "  </thead>\n",
       "  <tbody>\n",
       "    <tr>\n",
       "      <th>1250</th>\n",
       "      <td>True</td>\n",
       "      <td>76561197970982479</td>\n",
       "      <td>2</td>\n",
       "      <td>2011</td>\n",
       "    </tr>\n",
       "    <tr>\n",
       "      <th>22200</th>\n",
       "      <td>True</td>\n",
       "      <td>76561197970982479</td>\n",
       "      <td>1</td>\n",
       "      <td>2011</td>\n",
       "    </tr>\n",
       "    <tr>\n",
       "      <th>43110</th>\n",
       "      <td>True</td>\n",
       "      <td>76561197970982479</td>\n",
       "      <td>2</td>\n",
       "      <td>2011</td>\n",
       "    </tr>\n",
       "    <tr>\n",
       "      <th>251610</th>\n",
       "      <td>True</td>\n",
       "      <td>js41637</td>\n",
       "      <td>2</td>\n",
       "      <td>2014</td>\n",
       "    </tr>\n",
       "    <tr>\n",
       "      <th>227300</th>\n",
       "      <td>True</td>\n",
       "      <td>js41637</td>\n",
       "      <td>2</td>\n",
       "      <td>2013</td>\n",
       "    </tr>\n",
       "  </tbody>\n",
       "</table>\n",
       "</div>"
      ],
      "text/plain": [
       "         recommend            user_id  sentiment_analysis  year_review\n",
       "item_id                                                               \n",
       "1250          True  76561197970982479                   2         2011\n",
       "22200         True  76561197970982479                   1         2011\n",
       "43110         True  76561197970982479                   2         2011\n",
       "251610        True            js41637                   2         2014\n",
       "227300        True            js41637                   2         2013"
      ]
     },
     "execution_count": 4,
     "metadata": {},
     "output_type": "execute_result"
    }
   ],
   "source": [
    "reviews.head()"
   ]
  },
  {
   "cell_type": "code",
   "execution_count": 5,
   "metadata": {},
   "outputs": [
    {
     "data": {
      "text/html": [
       "<div>\n",
       "<style scoped>\n",
       "    .dataframe tbody tr th:only-of-type {\n",
       "        vertical-align: middle;\n",
       "    }\n",
       "\n",
       "    .dataframe tbody tr th {\n",
       "        vertical-align: top;\n",
       "    }\n",
       "\n",
       "    .dataframe thead th {\n",
       "        text-align: right;\n",
       "    }\n",
       "</style>\n",
       "<table border=\"1\" class=\"dataframe\">\n",
       "  <thead>\n",
       "    <tr style=\"text-align: right;\">\n",
       "      <th></th>\n",
       "      <th>item_id</th>\n",
       "      <th>item_name</th>\n",
       "      <th>playtime_forever</th>\n",
       "      <th>items_count</th>\n",
       "      <th>user_id</th>\n",
       "      <th>playtime_hours</th>\n",
       "    </tr>\n",
       "  </thead>\n",
       "  <tbody>\n",
       "    <tr>\n",
       "      <th>0</th>\n",
       "      <td>10</td>\n",
       "      <td>Counter-Strike</td>\n",
       "      <td>6</td>\n",
       "      <td>277</td>\n",
       "      <td>76561197970982479</td>\n",
       "      <td>0.100000</td>\n",
       "    </tr>\n",
       "    <tr>\n",
       "      <th>1</th>\n",
       "      <td>20</td>\n",
       "      <td>Team Fortress Classic</td>\n",
       "      <td>0</td>\n",
       "      <td>277</td>\n",
       "      <td>76561197970982479</td>\n",
       "      <td>0.000000</td>\n",
       "    </tr>\n",
       "    <tr>\n",
       "      <th>2</th>\n",
       "      <td>30</td>\n",
       "      <td>Day of Defeat</td>\n",
       "      <td>7</td>\n",
       "      <td>277</td>\n",
       "      <td>76561197970982479</td>\n",
       "      <td>0.116667</td>\n",
       "    </tr>\n",
       "    <tr>\n",
       "      <th>3</th>\n",
       "      <td>40</td>\n",
       "      <td>Deathmatch Classic</td>\n",
       "      <td>0</td>\n",
       "      <td>277</td>\n",
       "      <td>76561197970982479</td>\n",
       "      <td>0.000000</td>\n",
       "    </tr>\n",
       "    <tr>\n",
       "      <th>4</th>\n",
       "      <td>50</td>\n",
       "      <td>Half-Life: Opposing Force</td>\n",
       "      <td>0</td>\n",
       "      <td>277</td>\n",
       "      <td>76561197970982479</td>\n",
       "      <td>0.000000</td>\n",
       "    </tr>\n",
       "  </tbody>\n",
       "</table>\n",
       "</div>"
      ],
      "text/plain": [
       "   item_id                  item_name  playtime_forever  items_count  \\\n",
       "0       10             Counter-Strike                 6          277   \n",
       "1       20      Team Fortress Classic                 0          277   \n",
       "2       30              Day of Defeat                 7          277   \n",
       "3       40         Deathmatch Classic                 0          277   \n",
       "4       50  Half-Life: Opposing Force                 0          277   \n",
       "\n",
       "             user_id  playtime_hours  \n",
       "0  76561197970982479        0.100000  \n",
       "1  76561197970982479        0.000000  \n",
       "2  76561197970982479        0.116667  \n",
       "3  76561197970982479        0.000000  \n",
       "4  76561197970982479        0.000000  "
      ]
     },
     "execution_count": 5,
     "metadata": {},
     "output_type": "execute_result"
    }
   ],
   "source": [
    "items.head()"
   ]
  },
  {
   "cell_type": "markdown",
   "metadata": {},
   "source": [
    "Realizamos un merge para poder realizar una sola tabla para las columnas necesarias en las funciones"
   ]
  },
  {
   "cell_type": "code",
   "execution_count": 6,
   "metadata": {},
   "outputs": [
    {
     "data": {
      "text/html": [
       "<div>\n",
       "<style scoped>\n",
       "    .dataframe tbody tr th:only-of-type {\n",
       "        vertical-align: middle;\n",
       "    }\n",
       "\n",
       "    .dataframe tbody tr th {\n",
       "        vertical-align: top;\n",
       "    }\n",
       "\n",
       "    .dataframe thead th {\n",
       "        text-align: right;\n",
       "    }\n",
       "</style>\n",
       "<table border=\"1\" class=\"dataframe\">\n",
       "  <thead>\n",
       "    <tr style=\"text-align: right;\">\n",
       "      <th></th>\n",
       "      <th>item_id</th>\n",
       "      <th>item_name</th>\n",
       "      <th>playtime_forever</th>\n",
       "      <th>items_count</th>\n",
       "      <th>user_id</th>\n",
       "      <th>playtime_hours</th>\n",
       "      <th>recommend</th>\n",
       "      <th>sentiment_analysis</th>\n",
       "      <th>year_review</th>\n",
       "    </tr>\n",
       "  </thead>\n",
       "  <tbody>\n",
       "    <tr>\n",
       "      <th>0</th>\n",
       "      <td>22200</td>\n",
       "      <td>Zeno Clash</td>\n",
       "      <td>271</td>\n",
       "      <td>277</td>\n",
       "      <td>76561197970982479</td>\n",
       "      <td>4.516667</td>\n",
       "      <td>True</td>\n",
       "      <td>1</td>\n",
       "      <td>2011</td>\n",
       "    </tr>\n",
       "    <tr>\n",
       "      <th>1</th>\n",
       "      <td>1250</td>\n",
       "      <td>Killing Floor</td>\n",
       "      <td>10006</td>\n",
       "      <td>277</td>\n",
       "      <td>76561197970982479</td>\n",
       "      <td>166.766667</td>\n",
       "      <td>True</td>\n",
       "      <td>2</td>\n",
       "      <td>2011</td>\n",
       "    </tr>\n",
       "    <tr>\n",
       "      <th>2</th>\n",
       "      <td>43110</td>\n",
       "      <td>Metro 2033</td>\n",
       "      <td>834</td>\n",
       "      <td>277</td>\n",
       "      <td>76561197970982479</td>\n",
       "      <td>13.900000</td>\n",
       "      <td>True</td>\n",
       "      <td>2</td>\n",
       "      <td>2011</td>\n",
       "    </tr>\n",
       "    <tr>\n",
       "      <th>3</th>\n",
       "      <td>227300</td>\n",
       "      <td>Euro Truck Simulator 2</td>\n",
       "      <td>551</td>\n",
       "      <td>888</td>\n",
       "      <td>js41637</td>\n",
       "      <td>9.183333</td>\n",
       "      <td>True</td>\n",
       "      <td>2</td>\n",
       "      <td>2013</td>\n",
       "    </tr>\n",
       "    <tr>\n",
       "      <th>4</th>\n",
       "      <td>239030</td>\n",
       "      <td>Papers, Please</td>\n",
       "      <td>349</td>\n",
       "      <td>888</td>\n",
       "      <td>js41637</td>\n",
       "      <td>5.816667</td>\n",
       "      <td>True</td>\n",
       "      <td>2</td>\n",
       "      <td>2013</td>\n",
       "    </tr>\n",
       "  </tbody>\n",
       "</table>\n",
       "</div>"
      ],
      "text/plain": [
       "   item_id               item_name  playtime_forever  items_count  \\\n",
       "0    22200              Zeno Clash               271          277   \n",
       "1     1250           Killing Floor             10006          277   \n",
       "2    43110              Metro 2033               834          277   \n",
       "3   227300  Euro Truck Simulator 2               551          888   \n",
       "4   239030          Papers, Please               349          888   \n",
       "\n",
       "             user_id  playtime_hours  recommend  sentiment_analysis  \\\n",
       "0  76561197970982479        4.516667       True                   1   \n",
       "1  76561197970982479      166.766667       True                   2   \n",
       "2  76561197970982479       13.900000       True                   2   \n",
       "3            js41637        9.183333       True                   2   \n",
       "4            js41637        5.816667       True                   2   \n",
       "\n",
       "   year_review  \n",
       "0         2011  \n",
       "1         2011  \n",
       "2         2011  \n",
       "3         2013  \n",
       "4         2013  "
      ]
     },
     "execution_count": 6,
     "metadata": {},
     "output_type": "execute_result"
    }
   ],
   "source": [
    "df_merge = items.merge(reviews, on=('user_id', 'item_id'))\n",
    "df_merge.head()\n"
   ]
  },
  {
   "cell_type": "markdown",
   "metadata": {},
   "source": [
    "Para poder hacer un merge entre las tablas requerimos cambiar le nombre de una columna debido a que contienen la misma inforamcion pero tienen indicie diferente."
   ]
  },
  {
   "cell_type": "code",
   "execution_count": 7,
   "metadata": {},
   "outputs": [],
   "source": [
    "#Renombramos la columna \"id\" por \"item_id\" de la tabla \"steam\"\n",
    "steam= steam.rename(columns={'id': 'item_id'})"
   ]
  },
  {
   "cell_type": "code",
   "execution_count": 8,
   "metadata": {},
   "outputs": [
    {
     "data": {
      "text/html": [
       "<div>\n",
       "<style scoped>\n",
       "    .dataframe tbody tr th:only-of-type {\n",
       "        vertical-align: middle;\n",
       "    }\n",
       "\n",
       "    .dataframe tbody tr th {\n",
       "        vertical-align: top;\n",
       "    }\n",
       "\n",
       "    .dataframe thead th {\n",
       "        text-align: right;\n",
       "    }\n",
       "</style>\n",
       "<table border=\"1\" class=\"dataframe\">\n",
       "  <thead>\n",
       "    <tr style=\"text-align: right;\">\n",
       "      <th></th>\n",
       "      <th>genres</th>\n",
       "      <th>title</th>\n",
       "      <th>item_id</th>\n",
       "      <th>developer</th>\n",
       "      <th>year_release</th>\n",
       "    </tr>\n",
       "  </thead>\n",
       "  <tbody>\n",
       "    <tr>\n",
       "      <th>0</th>\n",
       "      <td>Action</td>\n",
       "      <td>Lost Summoner Kitty</td>\n",
       "      <td>761140</td>\n",
       "      <td>Kotoshiro</td>\n",
       "      <td>2018</td>\n",
       "    </tr>\n",
       "    <tr>\n",
       "      <th>1</th>\n",
       "      <td>Casual</td>\n",
       "      <td>Lost Summoner Kitty</td>\n",
       "      <td>761140</td>\n",
       "      <td>Kotoshiro</td>\n",
       "      <td>2018</td>\n",
       "    </tr>\n",
       "    <tr>\n",
       "      <th>2</th>\n",
       "      <td>Indie</td>\n",
       "      <td>Lost Summoner Kitty</td>\n",
       "      <td>761140</td>\n",
       "      <td>Kotoshiro</td>\n",
       "      <td>2018</td>\n",
       "    </tr>\n",
       "    <tr>\n",
       "      <th>3</th>\n",
       "      <td>Simulation</td>\n",
       "      <td>Lost Summoner Kitty</td>\n",
       "      <td>761140</td>\n",
       "      <td>Kotoshiro</td>\n",
       "      <td>2018</td>\n",
       "    </tr>\n",
       "    <tr>\n",
       "      <th>4</th>\n",
       "      <td>Strategy</td>\n",
       "      <td>Lost Summoner Kitty</td>\n",
       "      <td>761140</td>\n",
       "      <td>Kotoshiro</td>\n",
       "      <td>2018</td>\n",
       "    </tr>\n",
       "  </tbody>\n",
       "</table>\n",
       "</div>"
      ],
      "text/plain": [
       "       genres                title  item_id  developer  year_release\n",
       "0      Action  Lost Summoner Kitty   761140  Kotoshiro          2018\n",
       "1      Casual  Lost Summoner Kitty   761140  Kotoshiro          2018\n",
       "2       Indie  Lost Summoner Kitty   761140  Kotoshiro          2018\n",
       "3  Simulation  Lost Summoner Kitty   761140  Kotoshiro          2018\n",
       "4    Strategy  Lost Summoner Kitty   761140  Kotoshiro          2018"
      ]
     },
     "execution_count": 8,
     "metadata": {},
     "output_type": "execute_result"
    }
   ],
   "source": [
    "steam.head()"
   ]
  },
  {
   "cell_type": "markdown",
   "metadata": {},
   "source": [
    "Reazliamos el merge entre la tabla resultante anteior y la siguiente tabla"
   ]
  },
  {
   "cell_type": "code",
   "execution_count": 9,
   "metadata": {},
   "outputs": [
    {
     "data": {
      "text/html": [
       "<div>\n",
       "<style scoped>\n",
       "    .dataframe tbody tr th:only-of-type {\n",
       "        vertical-align: middle;\n",
       "    }\n",
       "\n",
       "    .dataframe tbody tr th {\n",
       "        vertical-align: top;\n",
       "    }\n",
       "\n",
       "    .dataframe thead th {\n",
       "        text-align: right;\n",
       "    }\n",
       "</style>\n",
       "<table border=\"1\" class=\"dataframe\">\n",
       "  <thead>\n",
       "    <tr style=\"text-align: right;\">\n",
       "      <th></th>\n",
       "      <th>item_id</th>\n",
       "      <th>item_name</th>\n",
       "      <th>playtime_forever</th>\n",
       "      <th>items_count</th>\n",
       "      <th>user_id</th>\n",
       "      <th>playtime_hours</th>\n",
       "      <th>recommend</th>\n",
       "      <th>sentiment_analysis</th>\n",
       "      <th>year_review</th>\n",
       "      <th>genres</th>\n",
       "      <th>title</th>\n",
       "      <th>developer</th>\n",
       "      <th>year_release</th>\n",
       "    </tr>\n",
       "  </thead>\n",
       "  <tbody>\n",
       "    <tr>\n",
       "      <th>0</th>\n",
       "      <td>22200</td>\n",
       "      <td>Zeno Clash</td>\n",
       "      <td>271</td>\n",
       "      <td>277</td>\n",
       "      <td>76561197970982479</td>\n",
       "      <td>4.516667</td>\n",
       "      <td>True</td>\n",
       "      <td>1</td>\n",
       "      <td>2011</td>\n",
       "      <td>Action</td>\n",
       "      <td>Zeno Clash</td>\n",
       "      <td>ACE Team</td>\n",
       "      <td>2009</td>\n",
       "    </tr>\n",
       "    <tr>\n",
       "      <th>1</th>\n",
       "      <td>22200</td>\n",
       "      <td>Zeno Clash</td>\n",
       "      <td>271</td>\n",
       "      <td>277</td>\n",
       "      <td>76561197970982479</td>\n",
       "      <td>4.516667</td>\n",
       "      <td>True</td>\n",
       "      <td>1</td>\n",
       "      <td>2011</td>\n",
       "      <td>Indie</td>\n",
       "      <td>Zeno Clash</td>\n",
       "      <td>ACE Team</td>\n",
       "      <td>2009</td>\n",
       "    </tr>\n",
       "    <tr>\n",
       "      <th>2</th>\n",
       "      <td>22200</td>\n",
       "      <td>Zeno Clash</td>\n",
       "      <td>240</td>\n",
       "      <td>942</td>\n",
       "      <td>seantheextraprawnsheepguy</td>\n",
       "      <td>4.000000</td>\n",
       "      <td>True</td>\n",
       "      <td>2</td>\n",
       "      <td>2011</td>\n",
       "      <td>Action</td>\n",
       "      <td>Zeno Clash</td>\n",
       "      <td>ACE Team</td>\n",
       "      <td>2009</td>\n",
       "    </tr>\n",
       "    <tr>\n",
       "      <th>3</th>\n",
       "      <td>22200</td>\n",
       "      <td>Zeno Clash</td>\n",
       "      <td>240</td>\n",
       "      <td>942</td>\n",
       "      <td>seantheextraprawnsheepguy</td>\n",
       "      <td>4.000000</td>\n",
       "      <td>True</td>\n",
       "      <td>2</td>\n",
       "      <td>2011</td>\n",
       "      <td>Indie</td>\n",
       "      <td>Zeno Clash</td>\n",
       "      <td>ACE Team</td>\n",
       "      <td>2009</td>\n",
       "    </tr>\n",
       "    <tr>\n",
       "      <th>4</th>\n",
       "      <td>22200</td>\n",
       "      <td>Zeno Clash</td>\n",
       "      <td>690</td>\n",
       "      <td>61</td>\n",
       "      <td>pipekissXD</td>\n",
       "      <td>11.500000</td>\n",
       "      <td>True</td>\n",
       "      <td>2</td>\n",
       "      <td>2013</td>\n",
       "      <td>Action</td>\n",
       "      <td>Zeno Clash</td>\n",
       "      <td>ACE Team</td>\n",
       "      <td>2009</td>\n",
       "    </tr>\n",
       "  </tbody>\n",
       "</table>\n",
       "</div>"
      ],
      "text/plain": [
       "   item_id   item_name  playtime_forever  items_count  \\\n",
       "0    22200  Zeno Clash               271          277   \n",
       "1    22200  Zeno Clash               271          277   \n",
       "2    22200  Zeno Clash               240          942   \n",
       "3    22200  Zeno Clash               240          942   \n",
       "4    22200  Zeno Clash               690           61   \n",
       "\n",
       "                     user_id  playtime_hours  recommend  sentiment_analysis  \\\n",
       "0          76561197970982479        4.516667       True                   1   \n",
       "1          76561197970982479        4.516667       True                   1   \n",
       "2  seantheextraprawnsheepguy        4.000000       True                   2   \n",
       "3  seantheextraprawnsheepguy        4.000000       True                   2   \n",
       "4                 pipekissXD       11.500000       True                   2   \n",
       "\n",
       "   year_review  genres       title developer  year_release  \n",
       "0         2011  Action  Zeno Clash  ACE Team          2009  \n",
       "1         2011   Indie  Zeno Clash  ACE Team          2009  \n",
       "2         2011  Action  Zeno Clash  ACE Team          2009  \n",
       "3         2011   Indie  Zeno Clash  ACE Team          2009  \n",
       "4         2013  Action  Zeno Clash  ACE Team          2009  "
      ]
     },
     "execution_count": 9,
     "metadata": {},
     "output_type": "execute_result"
    }
   ],
   "source": [
    "#Realizamos un merge entre el merge anterior y \"user_games\"\n",
    "df_merge = df_merge.merge(steam, on='item_id')\n",
    "#Visualizamos los cambios\n",
    "df_merge.head()"
   ]
  },
  {
   "cell_type": "markdown",
   "metadata": {},
   "source": [
    "Obtenemos una tabla con un total de 95508 filas x 16 columnas"
   ]
  },
  {
   "cell_type": "markdown",
   "metadata": {},
   "source": [
    "Convertimos a string algunas columnas"
   ]
  },
  {
   "cell_type": "code",
   "execution_count": 10,
   "metadata": {},
   "outputs": [],
   "source": [
    "df_merge['item_name'] = df_merge['item_name'].astype(str)\n",
    "df_merge['developer'] = df_merge['developer'].astype(str)"
   ]
  },
  {
   "cell_type": "code",
   "execution_count": 11,
   "metadata": {},
   "outputs": [
    {
     "name": "stdout",
     "output_type": "stream",
     "text": [
      "<class 'pandas.core.frame.DataFrame'>\n",
      "RangeIndex: 97524 entries, 0 to 97523\n",
      "Data columns (total 13 columns):\n",
      " #   Column              Non-Null Count  Dtype  \n",
      "---  ------              --------------  -----  \n",
      " 0   item_id             97524 non-null  int64  \n",
      " 1   item_name           97524 non-null  object \n",
      " 2   playtime_forever    97524 non-null  int64  \n",
      " 3   items_count         97524 non-null  int64  \n",
      " 4   user_id             97524 non-null  object \n",
      " 5   playtime_hours      97524 non-null  float64\n",
      " 6   recommend           97524 non-null  bool   \n",
      " 7   sentiment_analysis  97524 non-null  int64  \n",
      " 8   year_review         97524 non-null  int64  \n",
      " 9   genres              97524 non-null  object \n",
      " 10  title               97524 non-null  object \n",
      " 11  developer           97524 non-null  object \n",
      " 12  year_release        97524 non-null  int64  \n",
      "dtypes: bool(1), float64(1), int64(6), object(5)\n",
      "memory usage: 9.0+ MB\n"
     ]
    }
   ],
   "source": [
    "df_merge.info()"
   ]
  },
  {
   "cell_type": "markdown",
   "metadata": {},
   "source": [
    "Al analizar las funciones que son requeridas, las columnas necesarias para llevar a cabo estas son: \"item_id\", \"playtime_forever\", \"user_id\", \"genre\", \"year_release\", \"recommend\" y \"developer\", \"year_review', se deciden eliminar las demas"
   ]
  },
  {
   "cell_type": "code",
   "execution_count": 12,
   "metadata": {},
   "outputs": [],
   "source": [
    "columnas_a_eliminar = [\"items_count\", \"title\"]\n",
    "df_merge = df_merge.drop(columnas_a_eliminar, axis=1)"
   ]
  },
  {
   "cell_type": "code",
   "execution_count": 13,
   "metadata": {},
   "outputs": [
    {
     "data": {
      "text/html": [
       "<div>\n",
       "<style scoped>\n",
       "    .dataframe tbody tr th:only-of-type {\n",
       "        vertical-align: middle;\n",
       "    }\n",
       "\n",
       "    .dataframe tbody tr th {\n",
       "        vertical-align: top;\n",
       "    }\n",
       "\n",
       "    .dataframe thead th {\n",
       "        text-align: right;\n",
       "    }\n",
       "</style>\n",
       "<table border=\"1\" class=\"dataframe\">\n",
       "  <thead>\n",
       "    <tr style=\"text-align: right;\">\n",
       "      <th></th>\n",
       "      <th>item_id</th>\n",
       "      <th>item_name</th>\n",
       "      <th>playtime_forever</th>\n",
       "      <th>user_id</th>\n",
       "      <th>playtime_hours</th>\n",
       "      <th>recommend</th>\n",
       "      <th>sentiment_analysis</th>\n",
       "      <th>year_review</th>\n",
       "      <th>genres</th>\n",
       "      <th>developer</th>\n",
       "      <th>year_release</th>\n",
       "    </tr>\n",
       "  </thead>\n",
       "  <tbody>\n",
       "    <tr>\n",
       "      <th>0</th>\n",
       "      <td>22200</td>\n",
       "      <td>Zeno Clash</td>\n",
       "      <td>271</td>\n",
       "      <td>76561197970982479</td>\n",
       "      <td>4.516667</td>\n",
       "      <td>True</td>\n",
       "      <td>1</td>\n",
       "      <td>2011</td>\n",
       "      <td>Action</td>\n",
       "      <td>ACE Team</td>\n",
       "      <td>2009</td>\n",
       "    </tr>\n",
       "    <tr>\n",
       "      <th>1</th>\n",
       "      <td>22200</td>\n",
       "      <td>Zeno Clash</td>\n",
       "      <td>271</td>\n",
       "      <td>76561197970982479</td>\n",
       "      <td>4.516667</td>\n",
       "      <td>True</td>\n",
       "      <td>1</td>\n",
       "      <td>2011</td>\n",
       "      <td>Indie</td>\n",
       "      <td>ACE Team</td>\n",
       "      <td>2009</td>\n",
       "    </tr>\n",
       "    <tr>\n",
       "      <th>2</th>\n",
       "      <td>22200</td>\n",
       "      <td>Zeno Clash</td>\n",
       "      <td>240</td>\n",
       "      <td>seantheextraprawnsheepguy</td>\n",
       "      <td>4.000000</td>\n",
       "      <td>True</td>\n",
       "      <td>2</td>\n",
       "      <td>2011</td>\n",
       "      <td>Action</td>\n",
       "      <td>ACE Team</td>\n",
       "      <td>2009</td>\n",
       "    </tr>\n",
       "    <tr>\n",
       "      <th>3</th>\n",
       "      <td>22200</td>\n",
       "      <td>Zeno Clash</td>\n",
       "      <td>240</td>\n",
       "      <td>seantheextraprawnsheepguy</td>\n",
       "      <td>4.000000</td>\n",
       "      <td>True</td>\n",
       "      <td>2</td>\n",
       "      <td>2011</td>\n",
       "      <td>Indie</td>\n",
       "      <td>ACE Team</td>\n",
       "      <td>2009</td>\n",
       "    </tr>\n",
       "    <tr>\n",
       "      <th>4</th>\n",
       "      <td>22200</td>\n",
       "      <td>Zeno Clash</td>\n",
       "      <td>690</td>\n",
       "      <td>pipekissXD</td>\n",
       "      <td>11.500000</td>\n",
       "      <td>True</td>\n",
       "      <td>2</td>\n",
       "      <td>2013</td>\n",
       "      <td>Action</td>\n",
       "      <td>ACE Team</td>\n",
       "      <td>2009</td>\n",
       "    </tr>\n",
       "  </tbody>\n",
       "</table>\n",
       "</div>"
      ],
      "text/plain": [
       "   item_id   item_name  playtime_forever                    user_id  \\\n",
       "0    22200  Zeno Clash               271          76561197970982479   \n",
       "1    22200  Zeno Clash               271          76561197970982479   \n",
       "2    22200  Zeno Clash               240  seantheextraprawnsheepguy   \n",
       "3    22200  Zeno Clash               240  seantheextraprawnsheepguy   \n",
       "4    22200  Zeno Clash               690                 pipekissXD   \n",
       "\n",
       "   playtime_hours  recommend  sentiment_analysis  year_review  genres  \\\n",
       "0        4.516667       True                   1         2011  Action   \n",
       "1        4.516667       True                   1         2011   Indie   \n",
       "2        4.000000       True                   2         2011  Action   \n",
       "3        4.000000       True                   2         2011   Indie   \n",
       "4       11.500000       True                   2         2013  Action   \n",
       "\n",
       "  developer  year_release  \n",
       "0  ACE Team          2009  \n",
       "1  ACE Team          2009  \n",
       "2  ACE Team          2009  \n",
       "3  ACE Team          2009  \n",
       "4  ACE Team          2009  "
      ]
     },
     "execution_count": 13,
     "metadata": {},
     "output_type": "execute_result"
    }
   ],
   "source": [
    "df_merge.head()"
   ]
  },
  {
   "cell_type": "markdown",
   "metadata": {},
   "source": [
    "Convertimos a parquet la tabla final\n"
   ]
  },
  {
   "cell_type": "code",
   "execution_count": 14,
   "metadata": {},
   "outputs": [],
   "source": [
    "df_merge.to_parquet('Tabla_API.parquet')"
   ]
  },
  {
   "cell_type": "code",
   "execution_count": 15,
   "metadata": {},
   "outputs": [],
   "source": [
    "Tabla_API= pd.read_parquet('Tabla_API.parquet')"
   ]
  },
  {
   "cell_type": "code",
   "execution_count": 16,
   "metadata": {},
   "outputs": [
    {
     "data": {
      "text/html": [
       "<div>\n",
       "<style scoped>\n",
       "    .dataframe tbody tr th:only-of-type {\n",
       "        vertical-align: middle;\n",
       "    }\n",
       "\n",
       "    .dataframe tbody tr th {\n",
       "        vertical-align: top;\n",
       "    }\n",
       "\n",
       "    .dataframe thead th {\n",
       "        text-align: right;\n",
       "    }\n",
       "</style>\n",
       "<table border=\"1\" class=\"dataframe\">\n",
       "  <thead>\n",
       "    <tr style=\"text-align: right;\">\n",
       "      <th></th>\n",
       "      <th>item_id</th>\n",
       "      <th>item_name</th>\n",
       "      <th>playtime_forever</th>\n",
       "      <th>user_id</th>\n",
       "      <th>playtime_hours</th>\n",
       "      <th>recommend</th>\n",
       "      <th>sentiment_analysis</th>\n",
       "      <th>year_review</th>\n",
       "      <th>genres</th>\n",
       "      <th>developer</th>\n",
       "      <th>year_release</th>\n",
       "    </tr>\n",
       "  </thead>\n",
       "  <tbody>\n",
       "    <tr>\n",
       "      <th>0</th>\n",
       "      <td>22200</td>\n",
       "      <td>Zeno Clash</td>\n",
       "      <td>271</td>\n",
       "      <td>76561197970982479</td>\n",
       "      <td>4.516667</td>\n",
       "      <td>True</td>\n",
       "      <td>1</td>\n",
       "      <td>2011</td>\n",
       "      <td>Action</td>\n",
       "      <td>ACE Team</td>\n",
       "      <td>2009</td>\n",
       "    </tr>\n",
       "    <tr>\n",
       "      <th>1</th>\n",
       "      <td>22200</td>\n",
       "      <td>Zeno Clash</td>\n",
       "      <td>271</td>\n",
       "      <td>76561197970982479</td>\n",
       "      <td>4.516667</td>\n",
       "      <td>True</td>\n",
       "      <td>1</td>\n",
       "      <td>2011</td>\n",
       "      <td>Indie</td>\n",
       "      <td>ACE Team</td>\n",
       "      <td>2009</td>\n",
       "    </tr>\n",
       "    <tr>\n",
       "      <th>2</th>\n",
       "      <td>22200</td>\n",
       "      <td>Zeno Clash</td>\n",
       "      <td>240</td>\n",
       "      <td>seantheextraprawnsheepguy</td>\n",
       "      <td>4.000000</td>\n",
       "      <td>True</td>\n",
       "      <td>2</td>\n",
       "      <td>2011</td>\n",
       "      <td>Action</td>\n",
       "      <td>ACE Team</td>\n",
       "      <td>2009</td>\n",
       "    </tr>\n",
       "    <tr>\n",
       "      <th>3</th>\n",
       "      <td>22200</td>\n",
       "      <td>Zeno Clash</td>\n",
       "      <td>240</td>\n",
       "      <td>seantheextraprawnsheepguy</td>\n",
       "      <td>4.000000</td>\n",
       "      <td>True</td>\n",
       "      <td>2</td>\n",
       "      <td>2011</td>\n",
       "      <td>Indie</td>\n",
       "      <td>ACE Team</td>\n",
       "      <td>2009</td>\n",
       "    </tr>\n",
       "    <tr>\n",
       "      <th>4</th>\n",
       "      <td>22200</td>\n",
       "      <td>Zeno Clash</td>\n",
       "      <td>690</td>\n",
       "      <td>pipekissXD</td>\n",
       "      <td>11.500000</td>\n",
       "      <td>True</td>\n",
       "      <td>2</td>\n",
       "      <td>2013</td>\n",
       "      <td>Action</td>\n",
       "      <td>ACE Team</td>\n",
       "      <td>2009</td>\n",
       "    </tr>\n",
       "  </tbody>\n",
       "</table>\n",
       "</div>"
      ],
      "text/plain": [
       "   item_id   item_name  playtime_forever                    user_id  \\\n",
       "0    22200  Zeno Clash               271          76561197970982479   \n",
       "1    22200  Zeno Clash               271          76561197970982479   \n",
       "2    22200  Zeno Clash               240  seantheextraprawnsheepguy   \n",
       "3    22200  Zeno Clash               240  seantheextraprawnsheepguy   \n",
       "4    22200  Zeno Clash               690                 pipekissXD   \n",
       "\n",
       "   playtime_hours  recommend  sentiment_analysis  year_review  genres  \\\n",
       "0        4.516667       True                   1         2011  Action   \n",
       "1        4.516667       True                   1         2011   Indie   \n",
       "2        4.000000       True                   2         2011  Action   \n",
       "3        4.000000       True                   2         2011   Indie   \n",
       "4       11.500000       True                   2         2013  Action   \n",
       "\n",
       "  developer  year_release  \n",
       "0  ACE Team          2009  \n",
       "1  ACE Team          2009  \n",
       "2  ACE Team          2009  \n",
       "3  ACE Team          2009  \n",
       "4  ACE Team          2009  "
      ]
     },
     "execution_count": 16,
     "metadata": {},
     "output_type": "execute_result"
    }
   ],
   "source": [
    "Tabla_API.head()"
   ]
  },
  {
   "cell_type": "markdown",
   "metadata": {},
   "source": [
    "Para la funcion 3 necesitaremos 'item_name','year_review', 'recommend', 'sentiment_analysis', asi que para optimizar el espacio en render creamos un parquet con esta informacion"
   ]
  },
  {
   "cell_type": "code",
   "execution_count": 17,
   "metadata": {},
   "outputs": [],
   "source": [
    "funcion3= Tabla_API[['item_name','year_review', 'recommend', 'sentiment_analysis']]"
   ]
  },
  {
   "cell_type": "code",
   "execution_count": 18,
   "metadata": {},
   "outputs": [],
   "source": [
    "funcion3 = funcion3.drop_duplicates(subset=['item_name', 'year_review', 'recommend','sentiment_analysis'])\n",
    "funcion3 = funcion3.reset_index(drop=True)\n",
    "funcion3.to_parquet('funcion3.parquet')"
   ]
  },
  {
   "cell_type": "markdown",
   "metadata": {},
   "source": [
    "Para la funcion 4 necesitaremos 'developer','year_review', 'recommend', 'sentiment_analysis', asi que para optimizar el espacio en render creamos un parquet con esta informacion"
   ]
  },
  {
   "cell_type": "code",
   "execution_count": 19,
   "metadata": {},
   "outputs": [],
   "source": [
    "funcion4= Tabla_API[['developer','year_review', 'recommend', 'sentiment_analysis']]"
   ]
  },
  {
   "cell_type": "code",
   "execution_count": 20,
   "metadata": {},
   "outputs": [],
   "source": [
    "funcion4 = funcion4.drop_duplicates(subset=['developer','year_review', 'recommend', 'sentiment_analysis'])\n",
    "funcion4 = funcion4.reset_index(drop=True)\n",
    "funcion4.to_parquet('funcion4.parquet')"
   ]
  },
  {
   "cell_type": "markdown",
   "metadata": {},
   "source": [
    "Para la funcion  necesitaremos 'developer', 'sentiment_analysis, asi que para optimizar el espacio en render creamos un parquet con esta informacion"
   ]
  },
  {
   "cell_type": "code",
   "execution_count": 21,
   "metadata": {},
   "outputs": [],
   "source": [
    "funcion5= Tabla_API[['developer', 'sentiment_analysis']]"
   ]
  },
  {
   "cell_type": "code",
   "execution_count": 22,
   "metadata": {},
   "outputs": [],
   "source": [
    "funcion4 = funcion4.drop_duplicates(subset=['developer','year_review', 'recommend', 'sentiment_analysis'])\n",
    "funcion4 = funcion4.reset_index(drop=True)\n",
    "funcion4.to_parquet('funcion5.parquet')"
   ]
  },
  {
   "cell_type": "markdown",
   "metadata": {},
   "source": [
    "Ya con los archivos listos, procedemos construir las funciones"
   ]
  },
  {
   "cell_type": "markdown",
   "metadata": {},
   "source": [
    "# Definicion de las funciones"
   ]
  },
  {
   "cell_type": "markdown",
   "metadata": {},
   "source": [
    "# Funcion 1"
   ]
  },
  {
   "cell_type": "markdown",
   "metadata": {},
   "source": [
    "Esta funcion devuelve el año con mas horas jugadas para el genero dicho."
   ]
  },
  {
   "cell_type": "code",
   "execution_count": 23,
   "metadata": {},
   "outputs": [],
   "source": [
    "def PlayTimeGenre(genero: str):\n",
    "    # Filtrar el DataFrame por el género específico\n",
    "  genero_data = Tabla_API[Tabla_API['genres'].str.contains(genero, case=False, na=False)]\n",
    "\n",
    "  # Verificar si se encontraron datos para el género especificado\n",
    "  if genero_data.empty:\n",
    "      print(f\"No hay datos para el género {genero}.\")\n",
    "      return None\n",
    "\n",
    "  # Encontrar el año con más horas jugadas\n",
    "  max_hours_row = genero_data.groupby('year_release')['playtime_forever'].sum().idxmax()\n",
    "\n",
    "  # Imprimir el resultado\n",
    "  result = f\"El año con más horas jugadas para el género {genero}: {max_hours_row}\"\n",
    "\n",
    "  return result"
   ]
  },
  {
   "cell_type": "code",
   "execution_count": 24,
   "metadata": {},
   "outputs": [
    {
     "name": "stdout",
     "output_type": "stream",
     "text": [
      "El año con más horas jugadas para el género Action: 2012\n"
     ]
    }
   ],
   "source": [
    "print( PlayTimeGenre('Action'))"
   ]
  },
  {
   "cell_type": "markdown",
   "metadata": {},
   "source": [
    "# Funcion 2"
   ]
  },
  {
   "cell_type": "markdown",
   "metadata": {},
   "source": [
    "Esta funcion devuelve el usuario que acumula mas horas jugadas para el genero dado y un alista de la acumulacion de horas jugadas por año"
   ]
  },
  {
   "cell_type": "code",
   "execution_count": 25,
   "metadata": {},
   "outputs": [],
   "source": [
    "def UserForGenre(genre):\n",
    "   # Filtrar el DataFrame por el género específico\n",
    "   genre_data = Tabla_API[Tabla_API['genres'].str.contains(genre, case=False, na=False)]\n",
    "\n",
    "   # Verificar si se encontraron datos para el género especificado\n",
    "   if genre_data.empty:\n",
    "       print(f\"No hay datos para el género {genre}.\")\n",
    "       return None\n",
    "\n",
    "   # Agrupar por usuario y sumar las horas jugadas\n",
    "   user_playtimes = genre_data.groupby('user_id')['playtime_forever'].sum()\n",
    "\n",
    "   # Encontrar el usuario con más horas jugadas\n",
    "   user_max_playtime = user_playtimes.idxmax()\n",
    "\n",
    "   # Obtener la acumulación de horas jugadas por año\n",
    "   playtime_by_year = genre_data.groupby('year_release')['playtime_forever'].sum().reset_index()\n",
    "\n",
    "   # Crear un diccionario con los resultados\n",
    "   result = {\n",
    "       'Usuario_con_mas_horas_jugadas': user_max_playtime,\n",
    "       'Horas_jugadas_por_año': playtime_by_year.to_dict('records')\n",
    "   }\n",
    "\n",
    "   return result\n"
   ]
  },
  {
   "cell_type": "code",
   "execution_count": 26,
   "metadata": {},
   "outputs": [
    {
     "name": "stdout",
     "output_type": "stream",
     "text": [
      "{'Usuario_con_mas_horas_jugadas': 'tsunamitad', 'Horas_jugadas_por_año': [{'year_release': 1992, 'playtime_forever': 50}, {'year_release': 1993, 'playtime_forever': 51}, {'year_release': 1994, 'playtime_forever': 67}, {'year_release': 1996, 'playtime_forever': 968}, {'year_release': 1997, 'playtime_forever': 493}, {'year_release': 1998, 'playtime_forever': 251}, {'year_release': 1999, 'playtime_forever': 32739}, {'year_release': 2001, 'playtime_forever': 89}, {'year_release': 2002, 'playtime_forever': 88}, {'year_release': 2003, 'playtime_forever': 12}, {'year_release': 2004, 'playtime_forever': 1150}, {'year_release': 2006, 'playtime_forever': 2736}, {'year_release': 2007, 'playtime_forever': 26774}, {'year_release': 2008, 'playtime_forever': 1362}, {'year_release': 2009, 'playtime_forever': 22795}, {'year_release': 2010, 'playtime_forever': 50015}, {'year_release': 2011, 'playtime_forever': 672427}, {'year_release': 2012, 'playtime_forever': 838691}, {'year_release': 2013, 'playtime_forever': 435487}, {'year_release': 2014, 'playtime_forever': 1022512}, {'year_release': 2015, 'playtime_forever': 3235597}, {'year_release': 2016, 'playtime_forever': 2393917}, {'year_release': 2017, 'playtime_forever': 4433934}]}\n"
     ]
    }
   ],
   "source": [
    "print( UserForGenre('Casual'))"
   ]
  },
  {
   "cell_type": "markdown",
   "metadata": {},
   "source": [
    "# Funcion 3"
   ]
  },
  {
   "cell_type": "markdown",
   "metadata": {},
   "source": [
    "Esta funcion devuelve el top 3 de juegos MÁS recomendados por usuarios para el año dado. (reviews.recommend = True y comentarios positivos/neutrales)"
   ]
  },
  {
   "cell_type": "code",
   "execution_count": 27,
   "metadata": {},
   "outputs": [],
   "source": [
    "def UsersRecommend(year: int) :\n",
    " # Filtrar el DataFrame por el año específico y las recomendaciones positivas o neutrales\n",
    " year_data = funcion3[(funcion3['year_review'] == year)]\n",
    " year_data1 = funcion3[(funcion3['recommend'] == True) & (funcion3['sentiment_analysis'].isin([2, 1]))]\n",
    " year = year_data1.groupby('item_name')['recommend'].sum().sort_values(ascending=False).head(3)\n",
    " result = pd.DataFrame(year).to_dict()\n",
    " # Convertir el resultado a una lista de diccionarios\n",
    " result = [{\"Puesto \" + str(i+1) : v} for i, v in enumerate(result['recommend'])]\n",
    " \n",
    " return result"
   ]
  },
  {
   "cell_type": "code",
   "execution_count": 28,
   "metadata": {},
   "outputs": [
    {
     "name": "stdout",
     "output_type": "stream",
     "text": [
      "[{'Puesto 1': 'Killing Floor'}, {'Puesto 2': 'Counter-Strike: Source'}, {'Puesto 3': \"Garry's Mod\"}]\n"
     ]
    }
   ],
   "source": [
    "print(UsersRecommend(2014))"
   ]
  },
  {
   "cell_type": "markdown",
   "metadata": {},
   "source": [
    "# Funcion 4"
   ]
  },
  {
   "cell_type": "markdown",
   "metadata": {},
   "source": [
    "Esta funcion devuelve el top 3 de desarrolladoras con juegos MENOS recomendados por usuarios para el año dado. (reviews.recommend = False y comentarios negativos)"
   ]
  },
  {
   "cell_type": "code",
   "execution_count": 29,
   "metadata": {},
   "outputs": [],
   "source": [
    "def UsersWorstDeveloper(year: int):\n",
    " \n",
    " # Filtrar el DataFrame por el año específico y las recomendaciones positivas o neutrales\n",
    " year_data = funcion4[(funcion4['year_review'] == year)]\n",
    " year_data1 = funcion4[(funcion4['recommend'] == False) & (funcion4['sentiment_analysis']== 0)]\n",
    " year= year_data1.groupby('developer')['recommend'].sum().sort_values(ascending=False).head(3)\n",
    " result = pd.DataFrame(year).to_dict()\n",
    " # Convertir el resultado a una lista de diccionarios\n",
    " result = [{\"Puesto \" + str(i+1) : v} for i, v in enumerate(result['recommend'])]\n",
    " return result\n"
   ]
  },
  {
   "cell_type": "code",
   "execution_count": 30,
   "metadata": {},
   "outputs": [
    {
     "data": {
      "text/plain": [
       "[{'Puesto 1': '10th Art Studio,Adventure Productions'},\n",
       " {'Puesto 2': 'Pieces Interactive'},\n",
       " {'Puesto 3': 'Rain Games'}]"
      ]
     },
     "execution_count": 30,
     "metadata": {},
     "output_type": "execute_result"
    }
   ],
   "source": [
    "UsersWorstDeveloper(2012)"
   ]
  },
  {
   "cell_type": "markdown",
   "metadata": {},
   "source": [
    "# Funcion 5"
   ]
  },
  {
   "cell_type": "markdown",
   "metadata": {},
   "source": [
    "Esta funcion, según la empresa desarrolladora, se devuelve un diccionario con el nombre de la desarrolladora como llave y una lista con la cantidad total de registros de reseñas de usuarios que se encuentren categorizados con un análisis de sentimiento como valor."
   ]
  },
  {
   "cell_type": "code",
   "execution_count": 31,
   "metadata": {},
   "outputs": [],
   "source": [
    "def sentiment_analysis(empresa_desarrolladora: str) -> dict:\n",
    "  # Crear un diccionario que mapee los valores '0', '1' y '2' a 'Negativo', 'Neutral' y 'Positivo'\n",
    "  sentiment_mapping = {0: 'Negativo', 1: 'Neutral', 2: 'Positivo'}\n",
    "\n",
    "  # Reemplazar los valores en la columna 'sentiment_analysis'\n",
    "  funcion5['sentiment_analysis'] = funcion5['sentiment_analysis'].replace(sentiment_mapping)\n",
    "\n",
    "  # Filtrar el DataFrame por la empresa desarrolladora\n",
    "  df_filtered = funcion5[funcion5['developer'] == empresa_desarrolladora]\n",
    "\n",
    "  # Verificar si se encontraron datos para la empresa desarrolladora\n",
    "  if df_filtered.empty:\n",
    "      print(f\"No hay datos para la empresa {empresa_desarrolladora}.\")\n",
    "      return None\n",
    "\n",
    "  # Agrupar por análisis de sentimiento y contar las filas\n",
    "  df_grouped = df_filtered.groupby(['developer', 'sentiment_analysis']).size().reset_index(name='Numero de registros')\n",
    "\n",
    "  # Convertir el DataFrame agrupado en un diccionario con el nombre de la empresa desarrolladora como llave y una lista con la cantidad total de registros de reseñas de usuarios que se encuentren categorizados con un análisis de sentimiento como valor\n",
    "  sentiment_analysis = {empresa_desarrolladora: df_grouped.set_index('sentiment_analysis')['Numero de registros'].to_dict()}\n",
    "\n",
    "  return sentiment_analysis\n"
   ]
  },
  {
   "cell_type": "code",
   "execution_count": 32,
   "metadata": {},
   "outputs": [
    {
     "name": "stdout",
     "output_type": "stream",
     "text": [
      "{'Ubisoft': {'Negativo': 22, 'Neutral': 72, 'Positivo': 104}}\n"
     ]
    }
   ],
   "source": [
    "print(sentiment_analysis('Ubisoft'))"
   ]
  }
 ],
 "metadata": {
  "kernelspec": {
   "display_name": "Python 3",
   "language": "python",
   "name": "python3"
  },
  "language_info": {
   "codemirror_mode": {
    "name": "ipython",
    "version": 3
   },
   "file_extension": ".py",
   "mimetype": "text/x-python",
   "name": "python",
   "nbconvert_exporter": "python",
   "pygments_lexer": "ipython3",
   "version": "3.11.6"
  }
 },
 "nbformat": 4,
 "nbformat_minor": 2
}
